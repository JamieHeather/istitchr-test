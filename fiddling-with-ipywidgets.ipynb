{
 "cells": [
  {
   "cell_type": "code",
   "execution_count": 5,
   "metadata": {},
   "outputs": [
    {
     "data": {
      "application/vnd.jupyter.widget-view+json": {
       "model_id": "593ea6fa8da4413ab43343c09d855797",
       "version_major": 2,
       "version_minor": 0
      },
      "text/plain": [
       "Box(children=(Box(children=(Label(value='Age of the captain'), IntSlider(value=40, max=60, min=40)), layout=La…"
      ]
     },
     "metadata": {},
     "output_type": "display_data"
    }
   ],
   "source": [
    "from ipywidgets import Layout, Button, Box, FloatText, Textarea, Dropdown, Label, IntSlider\n",
    "\n",
    "form_item_layout = Layout(\n",
    "    display='flex',\n",
    "    flex_flow='row',\n",
    "    justify_content='space-between'\n",
    ")\n",
    "\n",
    "form_items = [\n",
    "    Box([Label(value='Age of the captain'), IntSlider(min=40, max=60)], \n",
    "        layout=form_item_layout)  ,        \n",
    "    Box([Label(value='Egg style'),\n",
    "         Dropdown(options=['Scrambled', 'Sunny side up', 'Over easy'])], \n",
    "        layout=form_item_layout),\n",
    "    Box([Label(value='Ship size'),\n",
    "         FloatText()], layout=form_item_layout),\n",
    "    Box([Label(value='Information'),\n",
    "         Textarea()], layout=form_item_layout)\n",
    "]\n",
    "\n",
    "form = Box(form_items, layout=Layout(\n",
    "    display='flex',\n",
    "    flex_flow='column',\n",
    "    border='solid 2px',\n",
    "    align_items='stretch',\n",
    "    width='50%'\n",
    "))\n",
    "form\n",
    "\n"
   ]
  },
  {
   "cell_type": "code",
   "execution_count": 2,
   "metadata": {},
   "outputs": [
    {
     "name": "stdout",
     "output_type": "stream",
     "text": [
      "['Box', 'Button', 'Dropdown', 'FloatText', 'In', 'IntSlider', 'Label', 'Layout', 'Out', 'Textarea', '_', '_1', '__', '___', '__builtin__', '__builtins__', '__doc__', '__loader__', '__name__', '__package__', '__spec__', '_dh', '_i', '_i1', '_i2', '_ih', '_ii', '_iii', '_oh', 'exit', 'form', 'form_item_layout', 'form_items', 'get_ipython', 'quit']\n"
     ]
    }
   ],
   "source": [
    "print(dir())"
   ]
  },
  {
   "cell_type": "code",
   "execution_count": 13,
   "metadata": {},
   "outputs": [
    {
     "ename": "AttributeError",
     "evalue": "'list' object has no attribute 'value'",
     "output_type": "error",
     "traceback": [
      "\u001b[0;31m---------------------------------------------------------------------------\u001b[0m",
      "\u001b[0;31mAttributeError\u001b[0m                            Traceback (most recent call last)",
      "\u001b[0;32m<ipython-input-13-7e6087635f7f>\u001b[0m in \u001b[0;36m<module>\u001b[0;34m\u001b[0m\n\u001b[0;32m----> 1\u001b[0;31m \u001b[0mprint\u001b[0m\u001b[0;34m(\u001b[0m\u001b[0mform_items\u001b[0m\u001b[0;34m.\u001b[0m\u001b[0mvalue\u001b[0m\u001b[0;34m)\u001b[0m\u001b[0;34m\u001b[0m\u001b[0;34m\u001b[0m\u001b[0m\n\u001b[0m",
      "\u001b[0;31mAttributeError\u001b[0m: 'list' object has no attribute 'value'"
     ]
    }
   ],
   "source": [
    "print(form_items.value)"
   ]
  },
  {
   "cell_type": "code",
   "execution_count": 14,
   "metadata": {},
   "outputs": [
    {
     "data": {
      "application/vnd.jupyter.widget-view+json": {
       "model_id": "dde760c529e745a994d916765d29b576",
       "version_major": 2,
       "version_minor": 0
      },
      "text/plain": [
       "Box(children=(Box(children=(Label(value='Age of the captain'), IntSlider(value=40, max=60, min=40)), layout=La…"
      ]
     },
     "metadata": {},
     "output_type": "display_data"
    }
   ],
   "source": [
    "%matplotlib notebook\n",
    "import pandas as pd\n",
    "import matplotlib.pyplot as plt\n",
    "from ipywidgets import *\n",
    "from IPython.display import display\n",
    "from IPython.html import widgets\n",
    "plt.style.use('ggplot')\n",
    " \n",
    "NUMBER_OF_PINGS = 4\n",
    " \n",
    "# displaying the text widget\n",
    "text = widgets.Text(description=\"Domain to ping\", width=200)\n",
    "display(text)\n",
    " \n",
    "# preparing the plot\n",
    "data = pd.DataFrame()\n",
    "x = range(1,NUMBER_OF_PINGS+1)\n",
    "plots = dict()\n",
    "fig, ax = plt.subplots()\n",
    "plt.xlabel('iterations')\n",
    "plt.ylabel('ms')\n",
    "plt.xticks(x)\n",
    "plt.show()\n",
    " \n",
    "# preparing a container to put in created checkbox per domain\n",
    "checkboxes = []\n",
    "cb_container = widgets.HBox()\n",
    "display(cb_container)\n",
    " \n",
    "# add button that updates the graph based on the checkboxes\n",
    "button = widgets.Button(description=\"Update the graph\")\n",
    " \n",
    "# function to deal with the added domain name\n",
    "def handle_submit(sender):\n",
    "# a part of the magic inside python : pinging\n",
    "res = !ping -c {NUMBER_OF_PINGS} {text.value}\n",
    "hits = res.grep('64 bytes').fields(-2).s.replace(\"time=\",\"\").split()\n",
    "if len(hits) == 0:\n",
    "print \"Domain gave error on pinging\"\n",
    "else:\n",
    "# rebuild plot based on ping result\n",
    "data = hits\n",
    "data\n",
    " \n",
    " \n",
    " \n",
    "= data\n",
    " \n",
    " \n",
    " \n",
    ".astype(float)\n",
    "plots\n",
    " \n",
    " \n",
    " \n",
    ", = ax.plot(x, data\n",
    " \n",
    " \n",
    " \n",
    ", label=text.value)\n",
    "plt.legend()\n",
    "plt.draw()\n",
    "# add a new checkbox for the new domain\n",
    "checkboxes.append(widgets.Checkbox(description = text.value, value=True, width=90))\n",
    "cb_container.children=[i for i in checkboxes]\n",
    "if len(checkboxes) == 1:\n",
    "display(button)\n",
    " \n",
    "# function to deal with the checkbox update button\n",
    "def on_button_clicked(b):\n",
    "for c in cb_container.children:\n",
    "if not c.value:\n",
    "plots\n",
    " \n",
    " \n",
    " \n",
    ".set_visible(False)\n",
    "else:\n",
    "plots\n",
    " \n",
    " \n",
    " \n",
    ".set_visible(True)\n",
    "plt.legend()\n",
    "plt.draw()\n",
    " \n",
    "button.on_click(on_button_clicked)\n",
    "text.on_submit(handle_submit)\n",
    "plt.show()"
   ]
  },
  {
   "cell_type": "code",
   "execution_count": 15,
   "metadata": {},
   "outputs": [
    {
     "data": {
      "application/vnd.jupyter.widget-view+json": {
       "model_id": "c0445a5124cc449c9460f17cf2e707a3",
       "version_major": 2,
       "version_minor": 0
      },
      "text/plain": [
       "HBox(children=(VBox(children=(RadioButtons(options=('The color', 'The length', 'The slope'), value=None), Butt…"
      ]
     },
     "metadata": {},
     "output_type": "display_data"
    },
    {
     "name": "stdout",
     "output_type": "stream",
     "text": [
      "Try again...\n",
      "Try again...\n",
      "Correct!\n",
      "Correct!\n"
     ]
    }
   ],
   "source": [
    "import ipywidgets as widgets\n",
    "\n",
    "selector = widgets.RadioButtons(\n",
    "    options=['The color', 'The length', 'The slope'],\n",
    "    value=None,\n",
    "    description='',\n",
    "    disabled=False\n",
    ")\n",
    "\n",
    "button = widgets.Button(\n",
    "    description='Submit answer',\n",
    "    disabled=False,\n",
    "    button_style='', # 'success', 'info', 'warning', 'danger' or ''\n",
    ")\n",
    "\n",
    "def evaluate(button):\n",
    "\n",
    "    selection = selector.get_interact_value()\n",
    "\n",
    "    if (selection == \"The slope\"):\n",
    "        print(\"Correct!\")\n",
    "    else:\n",
    "        print(\"Try again...\")\n",
    "# To reset the option value. However, I would like to avoid having a \"default\" value\n",
    "        selector.value = None     \n",
    "\n",
    "button.on_click(evaluate)        \n",
    "\n",
    "left_box = widgets.VBox([selector, button])\n",
    "widgets.HBox([left_box])"
   ]
  },
  {
   "cell_type": "code",
   "execution_count": null,
   "metadata": {},
   "outputs": [],
   "source": []
  }
 ],
 "metadata": {
  "kernelspec": {
   "display_name": "Python 3",
   "language": "python",
   "name": "python3"
  },
  "language_info": {
   "codemirror_mode": {
    "name": "ipython",
    "version": 3
   },
   "file_extension": ".py",
   "mimetype": "text/x-python",
   "name": "python",
   "nbconvert_exporter": "python",
   "pygments_lexer": "ipython3",
   "version": "3.7.7"
  }
 },
 "nbformat": 4,
 "nbformat_minor": 2
}
